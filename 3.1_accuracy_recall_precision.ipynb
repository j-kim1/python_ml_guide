{
 "cells": [
  {
   "cell_type": "code",
   "execution_count": 22,
   "id": "potential-medium",
   "metadata": {},
   "outputs": [
    {
     "name": "stdout",
     "output_type": "stream",
     "text": [
      "0.24.1\n"
     ]
    }
   ],
   "source": [
    "import sklearn\n",
    "\n",
    "print(sklearn.__version__)"
   ]
  },
  {
   "cell_type": "code",
   "execution_count": 23,
   "id": "associate-extra",
   "metadata": {},
   "outputs": [],
   "source": [
    "import numpy as np\n",
    "from sklearn.base import BaseEstimator\n",
    "\n",
    "class MyDummyClassifier(BaseEstimator):\n",
    "    # fit( ) method doesn't do anything \n",
    "    def fit(self, X , y=None):\n",
    "        pass\n",
    "    \n",
    "    # predict( ) method simply predicts 1 and 0 if Sex feature is 0 and 1 respectively. \n",
    "    def predict(self, X):\n",
    "        pred = np.zeros( ( X.shape[0], 1 ))\n",
    "        for i in range (X.shape[0]) :\n",
    "            if X['Sex'].iloc[i] == 1:\n",
    "                pred[i] = 0\n",
    "            else :\n",
    "                pred[i] = 1\n",
    "        \n",
    "        return pred"
   ]
  },
  {
   "cell_type": "code",
   "execution_count": 24,
   "id": "civic-efficiency",
   "metadata": {},
   "outputs": [],
   "source": [
    "from sklearn.preprocessing import LabelEncoder\n",
    "\n",
    "# Null treatment function\n",
    "def fillna(df):\n",
    "    df['Age'].fillna(df['Age'].mean(), inplace=True)\n",
    "    df['Cabin'].fillna('N', inplace=True)\n",
    "    df['Embarked'].fillna('N', inplace=True)\n",
    "    df['Fare'].fillna(0, inplace=True)\n",
    "    return df\n",
    "    \n",
    "# Drop unnecessary features\n",
    "def drop_features(df):\n",
    "    df.drop(['PassengerId','Name','Ticket'], axis=1, inplace=True)\n",
    "    return df\n",
    "\n",
    "# Label encoding\n",
    "def format_features(df):\n",
    "    df['Cabin']=df['Cabin'].str[:1]\n",
    "    features = ['Cabin','Sex','Embarked']\n",
    "    for feature in features:\n",
    "        le = LabelEncoder()\n",
    "        le.fit(df[feature])\n",
    "        df[feature]=le.transform(df[feature])\n",
    "    return df\n",
    "\n",
    "# Data precprocessing function call\n",
    "def transform_features(df):\n",
    "    df = fillna(df)\n",
    "    df = drop_features(df)\n",
    "    df = format_features(df)\n",
    "    return df"
   ]
  },
  {
   "cell_type": "code",
   "execution_count": 25,
   "id": "empirical-aquarium",
   "metadata": {},
   "outputs": [
    {
     "name": "stdout",
     "output_type": "stream",
     "text": [
      "Accuracy of dummy classifier: 0.7877\n"
     ]
    }
   ],
   "source": [
    "import pandas as pd\n",
    "from sklearn.model_selection import train_test_split\n",
    "from sklearn.metrics import accuracy_score\n",
    "\n",
    "# Original data re-loading. \n",
    "titanic_df = pd.read_csv('./titanic_train.csv')\n",
    "y_titanic_df = titanic_df['Survived']\n",
    "X_titanic_df= titanic_df.drop('Survived', axis=1)\n",
    "X_titanic_df = transform_features(X_titanic_df)\n",
    "X_train, X_test, y_train, y_test=train_test_split(X_titanic_df, y_titanic_df, \\\n",
    "                                                  test_size=0.2, random_state=0)\n",
    "\n",
    "# Dummy classifier learning/prediction/evaluation. \n",
    "myclf = MyDummyClassifier()\n",
    "myclf.fit(X_train ,y_train)\n",
    "\n",
    "mypredictions = myclf.predict(X_test)\n",
    "print('Accuracy of dummy classifier: {0:.4f}'.format(accuracy_score(y_test , mypredictions)))"
   ]
  },
  {
   "cell_type": "code",
   "execution_count": 26,
   "id": "ruled-school",
   "metadata": {},
   "outputs": [
    {
     "name": "stdout",
     "output_type": "stream",
     "text": [
      "[[ 0.  0.  5. ...  0.  0.  0.]\n",
      " [ 0.  0.  0. ... 10.  0.  0.]\n",
      " [ 0.  0.  0. ... 16.  9.  0.]\n",
      " ...\n",
      " [ 0.  0.  1. ...  6.  0.  0.]\n",
      " [ 0.  0.  2. ... 12.  0.  0.]\n",
      " [ 0.  0. 10. ... 12.  1.  0.]]\n",
      "### digits.data.shape: (1797, 64)\n",
      "[0 1 2 ... 8 9 8]\n",
      "### digits.target.shape: (1797,)\n"
     ]
    }
   ],
   "source": [
    "from sklearn.datasets import load_digits\n",
    "from sklearn.model_selection import train_test_split\n",
    "from sklearn.base import BaseEstimator\n",
    "from sklearn.metrics import accuracy_score\n",
    "import numpy as np\n",
    "import pandas as pd\n",
    "\n",
    "class MyFakeClassifier(BaseEstimator):\n",
    "    def fit(self,X,y):\n",
    "        pass\n",
    "    \n",
    "    # make zeros vector with same size of input data size\n",
    "    def predict(self,X):\n",
    "        return np.zeros( (len(X), 1) , dtype=bool)\n",
    "\n",
    "# MNIST data loading\n",
    "digits = load_digits()\n",
    "\n",
    "print(digits.data)\n",
    "print(\"### digits.data.shape:\", digits.data.shape)\n",
    "print(digits.target)\n",
    "print(\"### digits.target.shape:\", digits.target.shape)"
   ]
  },
  {
   "cell_type": "code",
   "execution_count": 27,
   "id": "fossil-culture",
   "metadata": {},
   "outputs": [
    {
     "data": {
      "text/plain": [
       "array([False, False, False, ..., False, False, False])"
      ]
     },
     "execution_count": 27,
     "metadata": {},
     "output_type": "execute_result"
    }
   ],
   "source": [
    "digits.target == 7"
   ]
  },
  {
   "cell_type": "code",
   "execution_count": 28,
   "id": "primary-commander",
   "metadata": {},
   "outputs": [],
   "source": [
    "# Make it binary classification data set. \n",
    "y = (digits.target == 7).astype(int)\n",
    "X_train, X_test, y_train, y_test = train_test_split( digits.data, y, random_state=11)"
   ]
  },
  {
   "cell_type": "code",
   "execution_count": 29,
   "id": "conservative-contribution",
   "metadata": {},
   "outputs": [
    {
     "name": "stdout",
     "output_type": "stream",
     "text": [
      "Label set shape : (450,)\n",
      "Test set 0, 1 distribution\n",
      "0    405\n",
      "1     45\n",
      "dtype: int64\n",
      "accuracy even if all the prediction is 0 :0.900\n"
     ]
    }
   ],
   "source": [
    "# Imbalanced label data set. \n",
    "print('Label set shape :', y_test.shape)\n",
    "print('Test set 0, 1 distribution')\n",
    "print(pd.Series(y_test).value_counts())\n",
    "\n",
    "# Dummy Classifier로 학습/예측/정확도 평가\n",
    "fakeclf = MyFakeClassifier()\n",
    "fakeclf.fit(X_train , y_train)\n",
    "fakepred = fakeclf.predict(X_test)\n",
    "print('accuracy even if all the prediction is 0 :{:.3f}'.format(accuracy_score(y_test , fakepred)))"
   ]
  },
  {
   "cell_type": "markdown",
   "id": "liquid-queue",
   "metadata": {},
   "source": [
    "### Confusion Matrix"
   ]
  },
  {
   "cell_type": "code",
   "execution_count": 30,
   "id": "rational-double",
   "metadata": {},
   "outputs": [
    {
     "data": {
      "text/plain": [
       "array([[405,   0],\n",
       "       [ 45,   0]], dtype=int64)"
      ]
     },
     "execution_count": 30,
     "metadata": {},
     "output_type": "execute_result"
    }
   ],
   "source": [
    "from sklearn.metrics import confusion_matrix\n",
    "confusion_matrix(y_test , fakepred)"
   ]
  },
  {
   "cell_type": "markdown",
   "id": "apparent-swing",
   "metadata": {},
   "source": [
    "### Precision and Recall\n",
    "- Precision and recall measurement using MyFakeClassifier"
   ]
  },
  {
   "cell_type": "code",
   "execution_count": 32,
   "id": "quiet-motivation",
   "metadata": {},
   "outputs": [
    {
     "name": "stdout",
     "output_type": "stream",
     "text": [
      "Precision: 0.0\n",
      "Recall: 0.0\n"
     ]
    },
    {
     "name": "stderr",
     "output_type": "stream",
     "text": [
      "C:\\Users\\zephy\\anaconda3\\envs\\python_ml_guide\\lib\\site-packages\\sklearn\\metrics\\_classification.py:1245: UndefinedMetricWarning: Precision is ill-defined and being set to 0.0 due to no predicted samples. Use `zero_division` parameter to control this behavior.\n",
      "  _warn_prf(average, modifier, msg_start, len(result))\n"
     ]
    }
   ],
   "source": [
    "from sklearn.metrics import accuracy_score, precision_score , recall_score\n",
    "\n",
    "print(\"Precision:\", precision_score(y_test, fakepred))\n",
    "print(\"Recall:\", recall_score(y_test, fakepred))"
   ]
  },
  {
   "cell_type": "markdown",
   "id": "irish-header",
   "metadata": {},
   "source": [
    "- Function for acheiving confusion matrix, accuracy, precision, and recall"
   ]
  },
  {
   "cell_type": "code",
   "execution_count": 33,
   "id": "acoustic-comparative",
   "metadata": {},
   "outputs": [],
   "source": [
    "from sklearn.metrics import accuracy_score, confusion_matrix, precision_score, recall_score\n",
    "\n",
    "def get_clf_eval(y_test, pred):\n",
    "    confusion = confusion_matrix(y_test, pred)\n",
    "    accuracy = accuracy_score(y_test, pred)\n",
    "    precision = precision_score(y_test, pred)\n",
    "    recall = recall_score(y_test, pred)\n",
    "    print('Confusion matrix')\n",
    "    print(confusion)\n",
    "    print('accuracy:{0:.4f}, precision:{1:.4f}, recall:{2:.4f}'.format(accuracy, precision, recall))"
   ]
  },
  {
   "cell_type": "code",
   "execution_count": 38,
   "id": "chinese-savannah",
   "metadata": {},
   "outputs": [
    {
     "name": "stdout",
     "output_type": "stream",
     "text": [
      "Confusion matrix\n",
      "[[104  14]\n",
      " [ 13  48]]\n",
      "accuracy:0.8492, precision:0.7742, recall:0.7869\n"
     ]
    }
   ],
   "source": [
    "import numpy as np\n",
    "import pandas as pd\n",
    "from sklearn.model_selection import train_test_split\n",
    "from sklearn.linear_model import LogisticRegression\n",
    "# Original data re-loading and preprocessing\n",
    "titanic_df = pd.read_csv('titanic_train.csv')\n",
    "y_titanic_df = titanic_df['Survived']\n",
    "X_titanic_df = titanic_df.drop('Survived', axis=1)\n",
    "X_titanic_df = transform_features(X_titanic_df)\n",
    "\n",
    "X_train, X_test, y_train, y_test = train_test_split(X_titanic_df, y_titanic_df, test_size=0.2, random_state=11)\n",
    "\n",
    "lr_clf = LogisticRegression(max_iter=1000)\n",
    "lr_clf.fit(X_train, y_train)\n",
    "pred = lr_clf.predict(X_test)\n",
    "get_clf_eval(y_test, pred)"
   ]
  },
  {
   "cell_type": "markdown",
   "id": "indonesian-effect",
   "metadata": {},
   "source": [
    "### Precision/Recall Trade-off\n",
    "- predict_proba() method"
   ]
  },
  {
   "cell_type": "code",
   "execution_count": 57,
   "id": "circular-comfort",
   "metadata": {},
   "outputs": [
    {
     "name": "stdout",
     "output_type": "stream",
     "text": [
      "pred_proba() shape: (179, 2)\n",
      "First 3 rows:\n",
      " [[0.46228984 0.53771016]\n",
      " [0.87873308 0.12126692]\n",
      " [0.8772212  0.1227788 ]]\n",
      "Select bigger probability\n",
      " [[0.46228984 0.53771016 1.        ]\n",
      " [0.87873308 0.12126692 0.        ]\n",
      " [0.8772212  0.1227788  0.        ]\n",
      " [0.88255292 0.11744708 0.        ]\n",
      " [0.85543445 0.14456555 0.        ]]\n"
     ]
    }
   ],
   "source": [
    "pred_proba = lr_clf.predict_proba(X_test)\n",
    "pred = lr_clf.predict(X_test)\n",
    "print('pred_proba() shape: {0}'.format(pred_proba.shape))\n",
    "print('First 3 rows:\\n', pred_proba[:3])\n",
    "\n",
    "#concatenate\n",
    "pred_proba_result = np.concatenate([pred_proba, pred.reshape(-1,1)], axis=1)\n",
    "#np.c_[pred_proba, pred.reshape(-1,1)]\n",
    "print('Select bigger probability\\n', pred_proba_result[:5])"
   ]
  },
  {
   "cell_type": "markdown",
   "id": "interstate-tournament",
   "metadata": {},
   "source": [
    "- Utilizing binarizer"
   ]
  },
  {
   "cell_type": "code",
   "execution_count": 59,
   "id": "everyday-series",
   "metadata": {},
   "outputs": [
    {
     "name": "stdout",
     "output_type": "stream",
     "text": [
      "[[0. 0. 1.]\n",
      " [1. 0. 0.]\n",
      " [0. 0. 1.]]\n"
     ]
    }
   ],
   "source": [
    "from sklearn.preprocessing import Binarizer\n",
    "X = [[1, -1, 2],\n",
    "     [2, 0, 0],\n",
    "     [0,1.1,1.2]]\n",
    "binarizer = Binarizer(threshold=1.1)\n",
    "print(binarizer.fit_transform(X))"
   ]
  },
  {
   "cell_type": "markdown",
   "id": "southeast-convenience",
   "metadata": {},
   "source": [
    "* Binarizer with threshold 0.5 "
   ]
  },
  {
   "cell_type": "code",
   "execution_count": 64,
   "id": "interracial-update",
   "metadata": {},
   "outputs": [
    {
     "name": "stdout",
     "output_type": "stream",
     "text": [
      "Confusion matrix\n",
      "[[104  14]\n",
      " [ 13  48]]\n",
      "accuracy:0.8492, precision:0.7742, recall:0.7869\n"
     ]
    }
   ],
   "source": [
    "from sklearn.preprocessing import Binarizer\n",
    "# threshold 0.5\n",
    "custom_threshold = 0.5\n",
    "\n",
    "# apply binarizer on predict_proba() returned array's second column\n",
    "pred_proba_1 = pred_proba[:,1].reshape(-1,1)\n",
    "binarizer = Binarizer(threshold = custom_threshold).fit(pred_proba_1)\n",
    "custom_predict = binarizer.transform(pred_proba_1)\n",
    "get_clf_eval(y_test, custom_predict)"
   ]
  },
  {
   "cell_type": "markdown",
   "id": "crucial-coordinator",
   "metadata": {},
   "source": [
    "* Binarizer with threshold 0.4"
   ]
  },
  {
   "cell_type": "code",
   "execution_count": 65,
   "id": "tough-culture",
   "metadata": {},
   "outputs": [
    {
     "name": "stdout",
     "output_type": "stream",
     "text": [
      "Confusion matrix\n",
      "[[98 20]\n",
      " [10 51]]\n",
      "accuracy:0.8324, precision:0.7183, recall:0.8361\n"
     ]
    }
   ],
   "source": [
    "# decrease the threshold to 0.4\n",
    "# threshold 0.5\n",
    "custom_threshold = 0.4\n",
    "\n",
    "# apply binarizer on predict_proba() returned array's second column\n",
    "pred_proba_1 = pred_proba[:,1].reshape(-1,1)\n",
    "binarizer = Binarizer(threshold = custom_threshold).fit(pred_proba_1)\n",
    "custom_predict = binarizer.transform(pred_proba_1)\n",
    "get_clf_eval(y_test, custom_predict)"
   ]
  },
  {
   "cell_type": "markdown",
   "id": "adequate-border",
   "metadata": {},
   "source": [
    "* Testing multiple thresholds"
   ]
  },
  {
   "cell_type": "code",
   "execution_count": 67,
   "id": "golden-optimization",
   "metadata": {},
   "outputs": [
    {
     "name": "stdout",
     "output_type": "stream",
     "text": [
      "Threshold: 0.4\n",
      "Confusion matrix\n",
      "[[98 20]\n",
      " [10 51]]\n",
      "accuracy:0.8324, precision:0.7183, recall:0.8361\n",
      "Threshold: 0.45\n",
      "Confusion matrix\n",
      "[[103  15]\n",
      " [ 12  49]]\n",
      "accuracy:0.8492, precision:0.7656, recall:0.8033\n",
      "Threshold: 0.5\n",
      "Confusion matrix\n",
      "[[104  14]\n",
      " [ 13  48]]\n",
      "accuracy:0.8492, precision:0.7742, recall:0.7869\n",
      "Threshold: 0.55\n",
      "Confusion matrix\n",
      "[[109   9]\n",
      " [ 15  46]]\n",
      "accuracy:0.8659, precision:0.8364, recall:0.7541\n",
      "Threshold: 0.6\n",
      "Confusion matrix\n",
      "[[112   6]\n",
      " [ 16  45]]\n",
      "accuracy:0.8771, precision:0.8824, recall:0.7377\n"
     ]
    }
   ],
   "source": [
    "thresholds = [0.4, 0.45, 0.5, 0.55, 0.6]\n",
    "\n",
    "def get_eval_by_thresholds(y_test, pred_proba_c1, thresholds):\n",
    "    for custom_threshold in thresholds:\n",
    "        binarizer = Binarizer(threshold=custom_threshold).fit(pred_proba_c1)\n",
    "        custom_predict = binarizer.transform(pred_proba_c1)\n",
    "        print('Threshold:', custom_threshold)\n",
    "        get_clf_eval(y_test, custom_predict)\n",
    "\n",
    "get_eval_by_thresholds(y_test, pred_proba[:,1].reshape(-1,1), thresholds)"
   ]
  },
  {
   "cell_type": "code",
   "execution_count": 81,
   "id": "thousand-smith",
   "metadata": {},
   "outputs": [
    {
     "name": "stdout",
     "output_type": "stream",
     "text": [
      "thresholds array shape: (143,)\n",
      "precisions array shape: (144,)\n",
      "recalls array shape: (144,)\n",
      "thresholds array 5 samples: [0.10386437 0.10386659 0.10389152 0.10780392 0.1088369 ]\n",
      "precisions array 5 samples: [0.38853503 0.38461538 0.38709677 0.38961039 0.38562092]\n",
      "recalls array 5 samples: [1.         0.98360656 0.98360656 0.98360656 0.96721311]\n",
      "indexes for sampling: [  0  15  30  45  60  75  90 105 120 135]\n",
      "threshold samples: [0.1  0.12 0.14 0.19 0.28 0.4  0.56 0.67 0.82 0.95]\n",
      "precision samples: [0.389 0.44  0.466 0.539 0.647 0.729 0.836 0.949 0.958 1.   ]\n",
      "recall samples: [1.    0.967 0.902 0.902 0.902 0.836 0.754 0.607 0.377 0.148]\n"
     ]
    }
   ],
   "source": [
    "from sklearn.metrics import precision_recall_curve\n",
    "\n",
    "# Probability of label 1\n",
    "pred_proba_class1 = lr_clf.predict_proba(X_test)[:,1]\n",
    "precisions, recalls, thresholds = precision_recall_curve(y_test, pred_proba_class1)\n",
    "print('thresholds array shape:', thresholds.shape)\n",
    "print('precisions array shape:', precisions.shape)\n",
    "print('recalls array shape:', recalls.shape)\n",
    "\n",
    "print('thresholds array 5 samples:', thresholds[:5])\n",
    "print('precisions array 5 samples:', precisions[:5])\n",
    "print('recalls array 5 samples:', recalls[:5])\n",
    "\n",
    "# 15 steps sampling\n",
    "thr_index = np.arange(0, thresholds.shape[0], 15)\n",
    "print('indexes for sampling:', thr_index)\n",
    "print('threshold samples:', np.round(thresholds[thr_index],2))\n",
    "\n",
    "# 15 steps sampling(precision, recall)\n",
    "print('precision samples:', np.round(precisions[thr_index],3))\n",
    "print('recall samples:', np.round(recalls[thr_index],3))"
   ]
  },
  {
   "cell_type": "markdown",
   "id": "collectible-cisco",
   "metadata": {},
   "source": [
    "* precision-recall curve depending on threshold change"
   ]
  },
  {
   "cell_type": "code",
   "execution_count": 93,
   "id": "stopped-adaptation",
   "metadata": {},
   "outputs": [
    {
     "data": {
      "application/pdf": "[encoded data removed]",
      "image/png": "[encoded data removed]",
      "text/plain": [
       "<Figure size 576x432 with 1 Axes>"
      ]
     },
     "metadata": {
      "needs_background": "light"
     },
     "output_type": "display_data"
    }
   ],
   "source": [
    "import matplotlib.pyplot as plt\n",
    "import matplotlib.ticker as ticker\n",
    "%matplotlib inline\n",
    "from IPython.display import set_matplotlib_formats\n",
    "set_matplotlib_formats('png', 'pdf')\n",
    "\n",
    "def precision_recall_curve_plot(y_test, pred_proba_c1):\n",
    "    # acheiving threshold, precision, recall \n",
    "    precisions, recalls, thresholds = precision_recall_curve(y_test, pred_proba_c1)\n",
    "    \n",
    "    # X-axis: thresholds, Y-axis: precisions & recalls\n",
    "    plt.figure(figsize=(8,6))\n",
    "    threshold_boundary = thresholds.shape[0]\n",
    "    plt.plot(thresholds, precisions[:threshold_boundary], linestyle='--', label='precision')\n",
    "    plt.plot(thresholds, recalls[:threshold_boundary], label='recall')\n",
    "    start, end = plt.xlim()\n",
    "    plt.xticks(np.round(np.arange(start, end, 0.1),2))\n",
    "    plt.xlabel('Threshold value'); plt.ylabel('Precision and Recall value')\n",
    "    plt.legend(); plt.grid()\n",
    "    plt.show()\n",
    "\n",
    "precision_recall_curve_plot(y_test, lr_clf.predict_proba(X_test)[:,1])"
   ]
  },
  {
   "cell_type": "markdown",
   "id": "dirty-technical",
   "metadata": {},
   "source": [
    "### F1 Score"
   ]
  },
  {
   "cell_type": "code",
   "execution_count": 97,
   "id": "therapeutic-return",
   "metadata": {},
   "outputs": [
    {
     "name": "stdout",
     "output_type": "stream",
     "text": [
      "F1 score: 0.7805\n"
     ]
    }
   ],
   "source": [
    "from sklearn.metrics import f1_score\n",
    "f1 = f1_score(y_test, pred)\n",
    "print('F1 score: {0:.4f}'.format(f1))"
   ]
  },
  {
   "cell_type": "code",
   "execution_count": 101,
   "id": "above-aquatic",
   "metadata": {},
   "outputs": [
    {
     "name": "stdout",
     "output_type": "stream",
     "text": [
      "Threshold: 0.4\n",
      "confusion matrix\n",
      "[[98 20]\n",
      " [10 51]]\n",
      "accuracy:0.8324, precision:0.7183, recall:0.8361, F1:0.7727\n",
      "Threshold: 0.45\n",
      "confusion matrix\n",
      "[[103  15]\n",
      " [ 12  49]]\n",
      "accuracy:0.8492, precision:0.7656, recall:0.8033, F1:0.7840\n",
      "Threshold: 0.5\n",
      "confusion matrix\n",
      "[[104  14]\n",
      " [ 13  48]]\n",
      "accuracy:0.8492, precision:0.7742, recall:0.7869, F1:0.7805\n",
      "Threshold: 0.55\n",
      "confusion matrix\n",
      "[[109   9]\n",
      " [ 15  46]]\n",
      "accuracy:0.8659, precision:0.8364, recall:0.7541, F1:0.7931\n",
      "Threshold: 0.6\n",
      "confusion matrix\n",
      "[[112   6]\n",
      " [ 16  45]]\n",
      "accuracy:0.8771, precision:0.8824, recall:0.7377, F1:0.8036\n"
     ]
    }
   ],
   "source": [
    "def get_clf_eval(y_test , pred):\n",
    "    confusion = confusion_matrix( y_test, pred)\n",
    "    accuracy = accuracy_score(y_test , pred)\n",
    "    precision = precision_score(y_test , pred)\n",
    "    recall = recall_score(y_test , pred)\n",
    "    # adding F1 score\n",
    "    f1 = f1_score(y_test, pred)\n",
    "    print('confusion matrix')\n",
    "    print(confusion)\n",
    "    print('accuracy:{0:.4f}, precision:{1:.4f}, recall:{2:.4f}, F1:{3:.4f}'.format(accuracy, precision, recall, f1))\n",
    "\n",
    "thresholds = [0.4, 0.45, 0.5, 0.55, 0.6]\n",
    "pred_proba = lr_clf.predict_proba(X_test)\n",
    "get_eval_by_thresholds(y_test, pred_proba[:,1].reshape(-1,1), thresholds)"
   ]
  },
  {
   "cell_type": "markdown",
   "id": "premier-dylan",
   "metadata": {},
   "source": [
    "### ROC Curve and AUC"
   ]
  },
  {
   "cell_type": "code",
   "execution_count": 114,
   "id": "strategic-vegetation",
   "metadata": {},
   "outputs": [
    {
     "name": "stdout",
     "output_type": "stream",
     "text": [
      "index for sampling: [ 1  6 11 16 21 26 31 36 41 46 51]\n",
      "sampled thresholds: [0.965 0.654 0.63  0.563 0.454 0.402 0.348 0.148 0.125 0.112 0.108]\n",
      "sampled fprs: [0.    0.017 0.034 0.076 0.127 0.169 0.203 0.466 0.585 0.686 0.797]\n",
      "sampled tprs: [0.033 0.639 0.721 0.754 0.803 0.836 0.885 0.902 0.934 0.967 0.984]\n"
     ]
    }
   ],
   "source": [
    "from sklearn.metrics import roc_curve\n",
    "# predicted probability for label 1\n",
    "pred_proba_class1 = lr_clf.predict_proba(X_test)[:,1]\n",
    "fprs, tprs, thresholds = roc_curve(y_test, pred_proba_class1) \n",
    "# value sampling\n",
    "thr_index = np.arange(1, thresholds.shape[0], 5) #threshold[0] is set to max(predicted probability)+1 so disregard\n",
    "print('index for sampling:', thr_index)\n",
    "print('sampled thresholds:', np.round(thresholds[thr_index],3))\n",
    "# sampled fprs and tprs\n",
    "print('sampled fprs:', np.round(fprs[thr_index],3))\n",
    "print('sampled tprs:', np.round(tprs[thr_index],3))"
   ]
  },
  {
   "cell_type": "code",
   "execution_count": 115,
   "id": "natural-jewelry",
   "metadata": {},
   "outputs": [
    {
     "data": {
      "application/pdf": "[encoded data removed]",
      "image/png": "[encoded data removed]",
      "text/plain": [
       "<Figure size 432x288 with 1 Axes>"
      ]
     },
     "metadata": {
      "needs_background": "light"
     },
     "output_type": "display_data"
    }
   ],
   "source": [
    "def roc_curve_plot(y_test, pred_proba_c1):\n",
    "    fprs, tprs, thresholds = roc_curve(y_test, pred_proba_c1)\n",
    "    #ROC curve\n",
    "    plt.plot(fprs, tprs, label = 'ROC')\n",
    "    #Straight line indicating random case\n",
    "    plt.plot([0,1], [0,1], 'k--', label='Random')\n",
    "    \n",
    "    start, end = plt.xlim()\n",
    "    plt.xticks(np.round(np.arange(start, end, 0.1),2))\n",
    "    plt.xlim(0,1); plt.ylim(0,1)\n",
    "    plt.xlabel('FPR(1-Specificity)'); plt.ylabel('TPR(Recall)')\n",
    "    plt.legend()\n",
    "    plt.show()\n",
    "\n",
    "roc_curve_plot(y_test, lr_clf.predict_proba(X_test)[:,1])"
   ]
  },
  {
   "cell_type": "code",
   "execution_count": 118,
   "id": "opening-decade",
   "metadata": {},
   "outputs": [
    {
     "name": "stdout",
     "output_type": "stream",
     "text": [
      "ROC AUC value :0.9024\n"
     ]
    }
   ],
   "source": [
    "from sklearn.metrics import roc_auc_score\n",
    "\n",
    "pred_proba = lr_clf.predict_proba(X_test)[:,1]\n",
    "roc_score = roc_auc_score(y_test, pred_proba)\n",
    "print('ROC AUC value :{0:.4f}'.format(roc_score))"
   ]
  },
  {
   "cell_type": "code",
   "execution_count": 120,
   "id": "difficult-canada",
   "metadata": {},
   "outputs": [
    {
     "name": "stdout",
     "output_type": "stream",
     "text": [
      "Confusion matrix\n",
      "[[104  14]\n",
      " [ 13  48]]\n",
      "Accuracy:0.8492, Precision:0.7742, Recall:0.7869, F1:0.7805, ROC_AUC:0.9024\n"
     ]
    }
   ],
   "source": [
    "def get_clf_eval(y_test, pred=None, pred_proba=None):\n",
    "    confusion = confusion_matrix(y_test, pred)\n",
    "    accuracy = accuracy_score(y_test, pred)\n",
    "    precision = precision_score(y_test, pred)\n",
    "    recall = recall_score(y_test, pred)\n",
    "    f1 = f1_score(y_test, pred)\n",
    "    #ROC_AUC \n",
    "    roc_auc = roc_auc_score(y_test, pred_proba)\n",
    "    print('Confusion matrix')\n",
    "    print(confusion)\n",
    "    print('Accuracy:{0:.4f}, Precision:{1:.4f}, Recall:{2:.4f}, F1:{3:.4f}, ROC_AUC:{4:.4f}'.format(\n",
    "    accuracy, precision, recall, f1, roc_auc))\n",
    "\n",
    "get_clf_eval(y_test, pred, pred_proba)"
   ]
  },
  {
   "cell_type": "code",
   "execution_count": null,
   "id": "aquatic-integral",
   "metadata": {},
   "outputs": [],
   "source": []
  }
 ],
 "metadata": {
  "kernelspec": {
   "display_name": "Python 3",
   "language": "python",
   "name": "python3"
  },
  "language_info": {
   "codemirror_mode": {
    "name": "ipython",
    "version": 3
   },
   "file_extension": ".py",
   "mimetype": "text/x-python",
   "name": "python",
   "nbconvert_exporter": "python",
   "pygments_lexer": "ipython3",
   "version": "3.9.2"
  }
 },
 "nbformat": 4,
 "nbformat_minor": 5
}
