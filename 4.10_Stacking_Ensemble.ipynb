{
 "cells": [
  {
   "cell_type": "code",
   "execution_count": 1,
   "id": "temporal-blake",
   "metadata": {},
   "outputs": [],
   "source": [
    "import numpy as np\n",
    "\n",
    "from sklearn.neighbors import KNeighborsClassifier\n",
    "from sklearn.ensemble import RandomForestClassifier\n",
    "from sklearn.ensemble import AdaBoostClassifier\n",
    "from sklearn.tree import DecisionTreeClassifier\n",
    "from sklearn.linear_model import LogisticRegression\n",
    "\n",
    "from sklearn.datasets import load_breast_cancer\n",
    "from sklearn.model_selection import train_test_split\n",
    "from sklearn.metrics import accuracy_score\n",
    "\n",
    "cancer_data = load_breast_cancer()\n",
    "\n",
    "X_data = cancer_data.data\n",
    "y_label = cancer_data.target\n",
    "\n",
    "X_train, X_test, y_train, y_test = train_test_split(X_data, y_label, test_size=0.2, random_state=0)"
   ]
  },
  {
   "cell_type": "code",
   "execution_count": 2,
   "id": "preceding-authorization",
   "metadata": {},
   "outputs": [],
   "source": [
    "# each ML model classifier creation\n",
    "knn_clf = KNeighborsClassifier(n_neighbors=4)\n",
    "rf_clf = RandomForestClassifier(n_estimators=100, random_state=0)\n",
    "dt_clf = DecisionTreeClassifier()\n",
    "ada_clf = AdaBoostClassifier(n_estimators=100)\n",
    "\n",
    "# for final stacking model\n",
    "lr_final = LogisticRegression(C=10)"
   ]
  },
  {
   "cell_type": "code",
   "execution_count": 4,
   "id": "persistent-zoning",
   "metadata": {},
   "outputs": [
    {
     "data": {
      "text/plain": [
       "AdaBoostClassifier(n_estimators=100)"
      ]
     },
     "execution_count": 4,
     "metadata": {},
     "output_type": "execute_result"
    }
   ],
   "source": [
    "# train each model\n",
    "knn_clf.fit(X_train, y_train)\n",
    "rf_clf.fit(X_train, y_train)\n",
    "dt_clf.fit(X_train, y_train)\n",
    "ada_clf.fit(X_train, y_train)"
   ]
  },
  {
   "cell_type": "code",
   "execution_count": 6,
   "id": "indonesian-investigation",
   "metadata": {},
   "outputs": [
    {
     "name": "stdout",
     "output_type": "stream",
     "text": [
      "KNN accuracy: 0.9211\n",
      "RandomForest accuracy: 0.9649\n",
      "DecisionTree accuracy: 0.9035\n",
      "AdaBoost accuracy: 0.9561\n"
     ]
    }
   ],
   "source": [
    "# Prediction by each model\n",
    "knn_pred = knn_clf.predict(X_test)\n",
    "rf_pred = rf_clf.predict(X_test)\n",
    "dt_pred = dt_clf.predict(X_test)\n",
    "ada_pred = ada_clf.predict(X_test)\n",
    "\n",
    "print('KNN accuracy: {0:.4f}'.format(accuracy_score(y_test, knn_pred)))\n",
    "print('RandomForest accuracy: {0:.4f}'.format(accuracy_score(y_test, rf_pred)))\n",
    "print('DecisionTree accuracy: {0:.4f}'.format(accuracy_score(y_test, dt_pred)))\n",
    "print('AdaBoost accuracy: {0:.4f}'.format(accuracy_score(y_test, ada_pred)))"
   ]
  },
  {
   "cell_type": "code",
   "execution_count": 9,
   "id": "consecutive-edinburgh",
   "metadata": {},
   "outputs": [
    {
     "name": "stdout",
     "output_type": "stream",
     "text": [
      "(114, 4)\n"
     ]
    }
   ],
   "source": [
    "# stacking each prediction results\n",
    "pred = np.array([knn_pred, rf_pred, dt_pred, ada_pred])\n",
    "\n",
    "# transpose\n",
    "pred = np.transpose(pred)\n",
    "print(pred.shape)"
   ]
  },
  {
   "cell_type": "code",
   "execution_count": 11,
   "id": "angry-declaration",
   "metadata": {},
   "outputs": [
    {
     "name": "stdout",
     "output_type": "stream",
     "text": [
      "Final meta model accuracy: 0.9737\n"
     ]
    }
   ],
   "source": [
    "lr_final.fit(pred, y_test)\n",
    "final=lr_final.predict(pred)\n",
    "\n",
    "print('Final meta model accuracy: {0:.4f}'.format(accuracy_score(y_test, final))) # possibly overfitted -> CV set os needed"
   ]
  },
  {
   "cell_type": "markdown",
   "id": "normal-barbados",
   "metadata": {},
   "source": [
    "### CV set based Stacking"
   ]
  },
  {
   "cell_type": "code",
   "execution_count": 22,
   "id": "respiratory-triple",
   "metadata": {},
   "outputs": [],
   "source": [
    "from sklearn.model_selection import KFold\n",
    "from sklearn.metrics import mean_absolute_error\n",
    "# Generating train/test data set for final meta model\n",
    "def get_stacking_base_datasets(model, X_train_n, y_train_n, X_test_n, n_folds):\n",
    "    # Kfold split\n",
    "    kf = KFold(n_folds, shuffle=True, random_state=0)\n",
    "    # Initialization of train/test array for return\n",
    "    train_fold_pred = np.zeros((X_train_n.shape[0],1))\n",
    "    test_pred = np.zeros((X_test_n.shape[0], n_folds))\n",
    "    print(model.__class__.__name__, 'model start')\n",
    "    \n",
    "    for folder_counter, (train_index, valid_index) in enumerate(kf.split(X_train_n)):\n",
    "        print('\\t fold set', folder_counter, 'start')\n",
    "        X_tr = X_train_n[train_index]\n",
    "        y_tr = y_train_n[train_index]\n",
    "        X_te = X_train_n[valid_index]\n",
    "        # learning using training set split by KFold\n",
    "        model.fit(X_tr, y_tr)\n",
    "        # Prediction using validation set split by KFold\n",
    "        train_fold_pred[valid_index,:]=model.predict(X_te).reshape(-1,1)\n",
    "        # Prediction using input test data\n",
    "        test_pred[:, folder_counter]=model.predict(X_test_n)\n",
    "        \n",
    "    # averaging \n",
    "    test_pred_mean = np.mean(test_pred, axis=1).reshape(-1,1)\n",
    "    \n",
    "    # train_fold_pred -> training data for meta model, test_pred_mean -> testing data for meta model\n",
    "    return train_fold_pred, test_pred_mean       "
   ]
  },
  {
   "cell_type": "code",
   "execution_count": 27,
   "id": "advisory-intranet",
   "metadata": {},
   "outputs": [
    {
     "name": "stdout",
     "output_type": "stream",
     "text": [
      "KNeighborsClassifier model start\n",
      "\t fold set 0 start\n",
      "\t fold set 1 start\n",
      "\t fold set 2 start\n",
      "\t fold set 3 start\n",
      "\t fold set 4 start\n",
      "\t fold set 5 start\n",
      "\t fold set 6 start\n",
      "RandomForestClassifier model start\n",
      "\t fold set 0 start\n",
      "\t fold set 1 start\n",
      "\t fold set 2 start\n",
      "\t fold set 3 start\n",
      "\t fold set 4 start\n",
      "\t fold set 5 start\n",
      "\t fold set 6 start\n",
      "DecisionTreeClassifier model start\n",
      "\t fold set 0 start\n",
      "\t fold set 1 start\n",
      "\t fold set 2 start\n",
      "\t fold set 3 start\n",
      "\t fold set 4 start\n",
      "\t fold set 5 start\n",
      "\t fold set 6 start\n",
      "AdaBoostClassifier model start\n",
      "\t fold set 0 start\n",
      "\t fold set 1 start\n",
      "\t fold set 2 start\n",
      "\t fold set 3 start\n",
      "\t fold set 4 start\n",
      "\t fold set 5 start\n",
      "\t fold set 6 start\n"
     ]
    }
   ],
   "source": [
    "knn_train, knn_test = get_stacking_base_datasets(knn_clf, X_train, y_train, X_test, 7)\n",
    "rf_train, rf_test = get_stacking_base_datasets(rf_clf, X_train, y_train, X_test, 7)\n",
    "dt_train, dt_test = get_stacking_base_datasets(dt_clf, X_train, y_train, X_test, 7)\n",
    "ada_train, ada_test = get_stacking_base_datasets(ada_clf, X_train, y_train, X_test, 7)"
   ]
  },
  {
   "cell_type": "code",
   "execution_count": 43,
   "id": "mobile-genealogy",
   "metadata": {},
   "outputs": [],
   "source": [
    "Stack_final_X_train = np.c_[knn_train, rf_train, dt_train, ada_train]\n",
    "# Stack_final_X_train = np.concatenate((knn_train, rf_train, dt_train, ada_train), axis=1)\n",
    "Stack_final_X_test = np.c_[knn_test, rf_test, dt_test, ada_test]\n",
    "# Stack_final_X_test = np.concatenate([knn_test, rf_test, dt_test, ada_test],axis=1)"
   ]
  },
  {
   "cell_type": "code",
   "execution_count": 46,
   "id": "noted-hughes",
   "metadata": {},
   "outputs": [
    {
     "name": "stdout",
     "output_type": "stream",
     "text": [
      "original training feature data shape: (455, 30) original testing feature data shape: (114, 30)\n",
      "Stacking training feature data shape: (455, 4) Stacking testing feature data shape: (114, 4)\n"
     ]
    }
   ],
   "source": [
    "print('original training feature data shape:', X_train.shape, 'original testing feature data shape:', X_test.shape)\n",
    "print('Stacking training feature data shape:', Stack_final_X_train.shape, 'Stacking testing feature data shape:', Stack_final_X_test.shape)"
   ]
  },
  {
   "cell_type": "code",
   "execution_count": 47,
   "id": "flexible-lounge",
   "metadata": {},
   "outputs": [
    {
     "name": "stdout",
     "output_type": "stream",
     "text": [
      "Final meta model accuracy: 0.9737\n"
     ]
    }
   ],
   "source": [
    "lr_final.fit(Stack_final_X_train, y_train)\n",
    "stack_final = lr_final.predict(Stack_final_X_test)\n",
    "print('Final meta model accuracy: {0:.4f}'.format(accuracy_score(y_test, stack_final)))"
   ]
  },
  {
   "cell_type": "code",
   "execution_count": null,
   "id": "acknowledged-class",
   "metadata": {},
   "outputs": [],
   "source": []
  }
 ],
 "metadata": {
  "kernelspec": {
   "display_name": "Python 3",
   "language": "python",
   "name": "python3"
  },
  "language_info": {
   "codemirror_mode": {
    "name": "ipython",
    "version": 3
   },
   "file_extension": ".py",
   "mimetype": "text/x-python",
   "name": "python",
   "nbconvert_exporter": "python",
   "pygments_lexer": "ipython3",
   "version": "3.9.2"
  }
 },
 "nbformat": 4,
 "nbformat_minor": 5
}
