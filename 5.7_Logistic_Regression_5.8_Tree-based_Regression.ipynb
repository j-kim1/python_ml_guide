{
 "cells": [
  {
   "cell_type": "markdown",
   "id": "treated-consequence",
   "metadata": {},
   "source": [
    "## Logistic Regression"
   ]
  },
  {
   "cell_type": "code",
   "execution_count": 1,
   "id": "heard-things",
   "metadata": {},
   "outputs": [],
   "source": [
    "import pandas as pd\n",
    "import matplotlib.pyplot as plt\n",
    "from sklearn.datasets import load_breast_cancer\n",
    "from sklearn.linear_model import LogisticRegression\n",
    "\n",
    "cancer = load_breast_cancer()"
   ]
  },
  {
   "cell_type": "code",
   "execution_count": 12,
   "id": "compatible-divide",
   "metadata": {},
   "outputs": [],
   "source": [
    "from sklearn.preprocessing import StandardScaler\n",
    "from sklearn.model_selection import train_test_split\n",
    "\n",
    "# Standardscaler for the X_data\n",
    "scaler = StandardScaler()\n",
    "data_scaled = scaler.fit_transform(cancer.data)\n",
    "X_train, X_test, y_train, y_test = train_test_split(data_scaled, cancer.target, test_size = 0.3, random_state=0)"
   ]
  },
  {
   "cell_type": "code",
   "execution_count": 13,
   "id": "based-default",
   "metadata": {},
   "outputs": [
    {
     "name": "stdout",
     "output_type": "stream",
     "text": [
      "accuracy: 0.977\n",
      "roc_auc: 0.972\n"
     ]
    }
   ],
   "source": [
    "from sklearn.metrics import accuracy_score, roc_auc_score\n",
    "#logistic regression\n",
    "lr_clf = LogisticRegression()\n",
    "lr_clf.fit(X_train, y_train)\n",
    "lr_preds = lr_clf.predict(X_test)\n",
    "#accuracy and roc_auc\n",
    "print('accuracy: {0:.3f}'.format(accuracy_score(y_test, lr_preds)))\n",
    "print('roc_auc: {0:.3f}'.format(roc_auc_score(y_test, lr_preds)))"
   ]
  },
  {
   "cell_type": "code",
   "execution_count": 25,
   "id": "marked-feature",
   "metadata": {},
   "outputs": [
    {
     "name": "stdout",
     "output_type": "stream",
     "text": [
      "best hyperparameter:{'C': 1, 'penalty': 'l2', 'solver': 'liblinear'}, best average accuracy:0.985\n"
     ]
    }
   ],
   "source": [
    "# logistic regression parameter: penaly=(l1 or l2), C=1/alpha\n",
    "# default solver doesn't support l1 penalty -> using liblinear\n",
    "from sklearn.model_selection import GridSearchCV\n",
    "params={'penalty':['l2', 'l1'],\n",
    "        'C':[0.01, 0.1, 1, 2, 5, 10],\n",
    "        'solver':['liblinear']}\n",
    "grid_clf = GridSearchCV(lr_clf, param_grid=params, scoring='accuracy', cv=3)\n",
    "grid_clf.fit(X_train, y_train)\n",
    "print('best hyperparameter:{0}, best average accuracy:{1:.3f}'.format(grid_clf.best_params_, grid_clf.best_score_))"
   ]
  },
  {
   "cell_type": "markdown",
   "id": "stopped-acceptance",
   "metadata": {},
   "source": [
    "### 5.8 Tree-based Regression"
   ]
  },
  {
   "cell_type": "code",
   "execution_count": 27,
   "id": "retired-salon",
   "metadata": {},
   "outputs": [
    {
     "name": "stdout",
     "output_type": "stream",
     "text": [
      "5 cross validations each negative MSE scores: [ -7.88 -13.14 -20.57 -46.23 -18.88]\n",
      "5 cross validations each RMSE scores [2.81 3.63 4.54 6.8  4.34]\n",
      "5 cross validation average RMSE 4.42\n"
     ]
    }
   ],
   "source": [
    "from sklearn.datasets import load_boston\n",
    "from sklearn.model_selection import cross_val_score\n",
    "from sklearn.ensemble import RandomForestRegressor\n",
    "import pandas as pd\n",
    "import numpy as np\n",
    "#data load\n",
    "boston = load_boston()\n",
    "bostonDF = pd.DataFrame(boston.data, columns=boston.feature_names)\n",
    "bostonDF['PRICE']=boston.target\n",
    "y_target = bostonDF['PRICE']\n",
    "X_data = bostonDF.drop('PRICE', axis=1)\n",
    "\n",
    "rf = RandomForestRegressor(random_state=0, n_estimators=1000)\n",
    "neg_mse_scores = cross_val_score(rf, X_data, y_target, scoring='neg_mean_squared_error', cv=5)\n",
    "rmse_scores = np.sqrt(-1*neg_mse_scores)\n",
    "avg_rmse = np.mean(rmse_scores)\n",
    "\n",
    "print('5 cross validations each negative MSE scores:', np.round(neg_mse_scores,2))\n",
    "print('5 cross validations each RMSE scores', np.round(rmse_scores,2))\n",
    "print('5 cross validations average RMSE', np.round(avg_rmse, 2))"
   ]
  },
  {
   "cell_type": "code",
   "execution_count": 30,
   "id": "dental-retail",
   "metadata": {},
   "outputs": [],
   "source": [
    "def get_model_cv_prediction(model, X_data, y_target):\n",
    "    neg_mse_scores = cross_val_score(model, X_data, y_target, scoring='neg_mean_squared_error', cv=5)\n",
    "    rmse_scores = np.sqrt(-1*neg_mse_scores)\n",
    "    avg_rmse = np.mean(rmse_scores)\n",
    "    print('####', model.__class__.__name__, '####')\n",
    "    print('5 cross validations average RMSE: {0:.3f}'.format(avg_rmse))"
   ]
  },
  {
   "cell_type": "code",
   "execution_count": 31,
   "id": "demonstrated-execution",
   "metadata": {},
   "outputs": [
    {
     "name": "stdout",
     "output_type": "stream",
     "text": [
      "#### DecisionTreeRegressor ####\n",
      "5 cross validations average RMSE: 5.978\n",
      "#### RandomForestRegressor ####\n",
      "5 cross validations average RMSE: 4.423\n",
      "#### GradientBoostingRegressor ####\n",
      "5 cross validations average RMSE: 4.269\n",
      "#### XGBRegressor ####\n",
      "5 cross validations average RMSE: 4.251\n",
      "#### LGBMRegressor ####\n",
      "5 cross validations average RMSE: 4.659\n",
      "elasped time: 48.66361093521118\n"
     ]
    }
   ],
   "source": [
    "from sklearn.tree import DecisionTreeRegressor\n",
    "from sklearn.ensemble import GradientBoostingRegressor\n",
    "from xgboost import XGBRegressor\n",
    "from lightgbm import LGBMRegressor\n",
    "import time\n",
    "\n",
    "start = time.time()\n",
    "\n",
    "dt_reg = DecisionTreeRegressor(random_state=0, max_depth=4)\n",
    "rf_reg = RandomForestRegressor(random_state=0, n_estimators=1000)\n",
    "gb_reg = GradientBoostingRegressor(random_state=0, n_estimators=1000)\n",
    "xgb_reg = XGBRegressor(random_state=0, n_estimators=1000)\n",
    "lgb_reg = LGBMRegressor(random_state=0, n_estimators=10000)\n",
    "\n",
    "models = [dt_reg, rf_reg, gb_reg, xgb_reg, lgb_reg]\n",
    "for model in models:\n",
    "    get_model_cv_prediction(model, X_data, y_target)\n",
    "\n",
    "print('elasped time:', time.time()-start)"
   ]
  },
  {
   "cell_type": "markdown",
   "id": "negative-cloud",
   "metadata": {},
   "source": [
    "- Feature importance"
   ]
  },
  {
   "cell_type": "code",
   "execution_count": 35,
   "id": "expressed-collect",
   "metadata": {},
   "outputs": [
    {
     "data": {
      "text/plain": [
       "<AxesSubplot:>"
      ]
     },
     "execution_count": 35,
     "metadata": {},
     "output_type": "execute_result"
    },
    {
     "data": {
      "image/png": "[encoded data removed]",
      "text/plain": [
       "<Figure size 432x288 with 1 Axes>"
      ]
     },
     "metadata": {
      "needs_background": "light"
     },
     "output_type": "display_data"
    }
   ],
   "source": [
    "import seaborn as sns\n",
    "rf_reg = RandomForestRegressor(n_estimators=1000)\n",
    "rf_reg.fit(X_data, y_target)\n",
    "feature_series = pd.Series(data=rf_reg.feature_importances_, index=X_data.columns)\n",
    "feature_series = feature_series.sort_values(ascending=False)\n",
    "sns.barplot(x=feature_series, y=feature_series.index)"
   ]
  },
  {
   "cell_type": "markdown",
   "id": "known-universal",
   "metadata": {},
   "source": [
    "- How does the tree based regressor actually work?"
   ]
  },
  {
   "cell_type": "code",
   "execution_count": 41,
   "id": "joined-speech",
   "metadata": {},
   "outputs": [
    {
     "name": "stdout",
     "output_type": "stream",
     "text": [
      "(100, 2)\n"
     ]
    },
    {
     "data": {
      "text/plain": [
       "<matplotlib.collections.PathCollection at 0x25103475c10>"
      ]
     },
     "execution_count": 41,
     "metadata": {},
     "output_type": "execute_result"
    },
    {
     "data": {
      "image/png": "[encoded data removed]",
      "text/plain": [
       "<Figure size 432x288 with 1 Axes>"
      ]
     },
     "metadata": {
      "needs_background": "light"
     },
     "output_type": "display_data"
    }
   ],
   "source": [
    "import matplotlib.pyplot as plt\n",
    "\n",
    "bostonDF_sample = bostonDF[['RM','PRICE']]\n",
    "bostonDF_sample = bostonDF_sample.sample(n=100, random_state=0)\n",
    "print(bostonDF_sample.shape)\n",
    "plt.figure()\n",
    "plt.scatter(bostonDF_sample['RM'], bostonDF_sample['PRICE'], c='darkorange')"
   ]
  },
  {
   "cell_type": "code",
   "execution_count": 42,
   "id": "thrown-europe",
   "metadata": {},
   "outputs": [],
   "source": [
    "import numpy as np\n",
    "from sklearn.linear_model import LinearRegression\n",
    "\n",
    "# linear regressor, Decision tree regressor\n",
    "lr_reg = LinearRegression()\n",
    "dt_reg2 = DecisionTreeRegressor(max_depth=2)\n",
    "dt_reg7 = DecisionTreeRegressor(max_depth=7)\n",
    "# 100 test data ranging from 4.5~8.5\n",
    "X_test = np.arange(4.5, 8.5, 0.04).reshape(-1,1)\n",
    "\n",
    "# Feature and target data from dataframe\n",
    "X_feature = bostonDF_sample['RM'].values.reshape(-1,1)\n",
    "y_target = bostonDF_sample['PRICE'].values.reshape(-1,1)\n",
    "\n",
    "# training\n",
    "lr_reg.fit(X_feature, y_target)\n",
    "dt_reg2.fit(X_feature, y_target)\n",
    "dt_reg7.fit(X_feature, y_target)\n",
    "# prediction\n",
    "pred_lr = lr_reg.predict(X_test)\n",
    "pred_dt2 = dt_reg2.predict(X_test)\n",
    "pred_dt7 = dt_reg7.predict(X_test)"
   ]
  },
  {
   "cell_type": "code",
   "execution_count": 45,
   "id": "endless-protection",
   "metadata": {},
   "outputs": [
    {
     "data": {
      "text/plain": [
       "[<matplotlib.lines.Line2D at 0x251036dc970>]"
      ]
     },
     "execution_count": 45,
     "metadata": {},
     "output_type": "execute_result"
    },
    {
     "data": {
      "image/png": "[encoded data removed]",
      "text/plain": [
       "<Figure size 1008x288 with 3 Axes>"
      ]
     },
     "metadata": {
      "needs_background": "light"
     },
     "output_type": "display_data"
    }
   ],
   "source": [
    "fig, (ax1, ax2, ax3) = plt.subplots(figsize=(14,4), ncols=3)\n",
    "\n",
    "# X_test ranging from 4.5~8.5 -> predicted with linear regression, decision tree)\n",
    "# linear regression\n",
    "ax1.set_title('Linear Regression')\n",
    "ax1.scatter(bostonDF_sample['RM'], bostonDF_sample['PRICE'], c='darkorange')\n",
    "ax1.plot(X_test, pred_lr, label='linear', linewidth=2)\n",
    "\n",
    "# DecisionTreeRegressor with max_depth = 2\n",
    "ax2.set_title('Decision Tree Regression:\\n max_depth=2')\n",
    "ax2.scatter(bostonDF_sample['RM'], bostonDF_sample['PRICE'], c='darkorange')\n",
    "ax2.plot(X_test, pred_dt2, label='max_depth:2', linewidth=2)\n",
    "\n",
    "# DecisionTreeRegressor with max_depth = 7\n",
    "ax3.set_title('Decision Tree Regression:\\n max_depth=7')\n",
    "ax3.scatter(bostonDF_sample['RM'], bostonDF_sample['PRICE'], c='darkorange')\n",
    "ax3.plot(X_test, pred_dt7, label='max_depth:7', linewidth=2)\n",
    "\n"
   ]
  },
  {
   "cell_type": "code",
   "execution_count": null,
   "id": "third-beijing",
   "metadata": {},
   "outputs": [],
   "source": []
  }
 ],
 "metadata": {
  "kernelspec": {
   "display_name": "Python 3",
   "language": "python",
   "name": "python3"
  },
  "language_info": {
   "codemirror_mode": {
    "name": "ipython",
    "version": 3
   },
   "file_extension": ".py",
   "mimetype": "text/x-python",
   "name": "python",
   "nbconvert_exporter": "python",
   "pygments_lexer": "ipython3",
   "version": "3.9.2"
  }
 },
 "nbformat": 4,
 "nbformat_minor": 5
}
