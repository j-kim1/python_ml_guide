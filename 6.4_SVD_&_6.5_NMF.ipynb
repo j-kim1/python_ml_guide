{
 "cells": [
  {
   "cell_type": "markdown",
   "id": "experimental-provincial",
   "metadata": {},
   "source": [
    "### 6-4 Singular Value Decomposition"
   ]
  },
  {
   "cell_type": "code",
   "execution_count": 1,
   "id": "possible-clearance",
   "metadata": {},
   "outputs": [
    {
     "name": "stdout",
     "output_type": "stream",
     "text": [
      "[[-0.212 -0.285 -0.574 -0.44 ]\n",
      " [-0.33   1.184  1.615  0.367]\n",
      " [-0.014  0.63   1.71  -1.327]\n",
      " [ 0.402 -0.191  1.404 -1.969]]\n"
     ]
    }
   ],
   "source": [
    "# numpy svd module import\n",
    "import numpy as np\n",
    "from numpy.linalg import svd\n",
    "\n",
    "# 4x4 matrix a\n",
    "np.random.seed(121)\n",
    "a = np.random.randn(4,4)\n",
    "print(np.round(a,3))"
   ]
  },
  {
   "cell_type": "code",
   "execution_count": 5,
   "id": "reliable-mistake",
   "metadata": {},
   "outputs": [
    {
     "name": "stdout",
     "output_type": "stream",
     "text": [
      "(4, 4) (4,) (4, 4)\n",
      "U matrix:\n",
      " [[-0.079 -0.318  0.867  0.376]\n",
      " [ 0.383  0.787  0.12   0.469]\n",
      " [ 0.656  0.022  0.357 -0.664]\n",
      " [ 0.645 -0.529 -0.328  0.444]]\n",
      "Sigma Value:\n",
      " [3.423 2.023 0.463 0.079]\n",
      "V transpose matrix:\n",
      " [[ 0.041  0.224  0.786 -0.574]\n",
      " [-0.2    0.562  0.37   0.712]\n",
      " [-0.778  0.395 -0.333 -0.357]\n",
      " [-0.593 -0.692  0.366  0.189]]\n"
     ]
    }
   ],
   "source": [
    "U, Sigma, Vt = svd(a)\n",
    "print(U.shape, Sigma.shape, Vt.shape)\n",
    "print('U matrix:\\n', np.round(U, 3))\n",
    "print('Sigma Value:\\n', np.round(Sigma, 3))\n",
    "print('V transpose matrix:\\n', np.round(Vt, 3))"
   ]
  },
  {
   "cell_type": "code",
   "execution_count": 10,
   "id": "skilled-colorado",
   "metadata": {},
   "outputs": [
    {
     "data": {
      "text/plain": [
       "array([[3.4229581 , 0.        , 0.        , 0.        ],\n",
       "       [0.        , 2.02287339, 0.        , 0.        ],\n",
       "       [0.        , 0.        , 0.46263157, 0.        ],\n",
       "       [0.        , 0.        , 0.        , 0.07935069]])"
      ]
     },
     "execution_count": 10,
     "metadata": {},
     "output_type": "execute_result"
    }
   ],
   "source": [
    "# Sigma -> symmetric matrix tronsform\n",
    "Sigma_mat = np.diag(Sigma)\n",
    "Sigma_mat"
   ]
  },
  {
   "cell_type": "code",
   "execution_count": 11,
   "id": "empirical-rings",
   "metadata": {},
   "outputs": [
    {
     "name": "stdout",
     "output_type": "stream",
     "text": [
      "[[-0.212 -0.285 -0.574 -0.44 ]\n",
      " [-0.33   1.184  1.615  0.367]\n",
      " [-0.014  0.63   1.71  -1.327]\n",
      " [ 0.402 -0.191  1.404 -1.969]]\n"
     ]
    }
   ],
   "source": [
    "# Original matrix can be reproduced with U, sigma, and Vt\n",
    "a_ = np.dot(np.dot(U, Sigma_mat), Vt)\n",
    "print(np.round(a_, 3))"
   ]
  },
  {
   "cell_type": "markdown",
   "id": "homeless-farming",
   "metadata": {},
   "source": [
    "* If there's a dependency in the original matrix"
   ]
  },
  {
   "cell_type": "code",
   "execution_count": 12,
   "id": "subtle-evidence",
   "metadata": {},
   "outputs": [
    {
     "name": "stdout",
     "output_type": "stream",
     "text": [
      "[[-0.212 -0.285 -0.574 -0.44 ]\n",
      " [-0.33   1.184  1.615  0.367]\n",
      " [-0.542  0.899  1.041 -0.073]\n",
      " [-0.212 -0.285 -0.574 -0.44 ]]\n"
     ]
    }
   ],
   "source": [
    "a[2] = a[0] + a[1]\n",
    "a[3] = a[0]\n",
    "print(np.round(a,3))"
   ]
  },
  {
   "cell_type": "code",
   "execution_count": 17,
   "id": "golden-needle",
   "metadata": {},
   "outputs": [
    {
     "name": "stdout",
     "output_type": "stream",
     "text": [
      "(4, 4) (4,) (4, 4)\n",
      "Sigma Value:\n",
      " [2.663 0.807 0.    0.   ]\n"
     ]
    }
   ],
   "source": [
    "# number of non-zero sigma value: 2 -> Rank of matrix a: 2\n",
    "U, Sigma, Vt = svd(a)\n",
    "print(U.shape, Sigma.shape, Vt.shape)\n",
    "print('Sigma Value:\\n', np.round(Sigma, 3))"
   ]
  },
  {
   "cell_type": "code",
   "execution_count": 19,
   "id": "spare-viewer",
   "metadata": {},
   "outputs": [
    {
     "name": "stdout",
     "output_type": "stream",
     "text": [
      "(4, 2) (2, 2) (2, 4)\n",
      "[[-0.212 -0.285 -0.574 -0.44 ]\n",
      " [-0.33   1.184  1.615  0.367]\n",
      " [-0.542  0.899  1.041 -0.073]\n",
      " [-0.212 -0.285 -0.574 -0.44 ]]\n"
     ]
    }
   ],
   "source": [
    "U_ = U[:,:2]\n",
    "Sigma_ = np.diag(Sigma[:2])\n",
    "Vt_ = Vt[:2]\n",
    "print(U_.shape, Sigma_.shape, Vt_.shape)\n",
    "# U_ Sigma_ Vt_ inner product\n",
    "a_ = np.dot(np.dot(U_, Sigma_), Vt_)\n",
    "print(np.round(a_, 3))"
   ]
  },
  {
   "cell_type": "markdown",
   "id": "internal-monday",
   "metadata": {},
   "source": [
    "* Truncated SVD"
   ]
  },
  {
   "cell_type": "code",
   "execution_count": 32,
   "id": "reported-pledge",
   "metadata": {},
   "outputs": [
    {
     "name": "stdout",
     "output_type": "stream",
     "text": [
      "Origianl matrix:\n",
      " [[0.11133083 0.21076757 0.23296249 0.15194456 0.83017814 0.40791941]\n",
      " [0.5557906  0.74552394 0.24849976 0.9686594  0.95268418 0.48984885]\n",
      " [0.01829731 0.85760612 0.40493829 0.62247394 0.29537149 0.92958852]\n",
      " [0.4056155  0.56730065 0.24575605 0.22573721 0.03827786 0.58098021]\n",
      " [0.82925331 0.77326256 0.94693849 0.73632338 0.67328275 0.74517176]\n",
      " [0.51161442 0.46920965 0.6439515  0.82081228 0.14548493 0.01806415]]\n",
      "\n",
      " decomposed matrix shape: (6, 6) (6,) (6, 6)\n",
      "\n",
      " Sigma value: [3.2535007  0.88116505 0.83865238 0.55463089 0.35834824 0.0349925 ]\n",
      "\n",
      "Truncated SVD decomposition matrix shape: (6, 4) (4,) (4, 6)\n",
      "\n",
      "Truncated SVD Sigma value: [0.55463089 0.83865238 0.88116505 3.2535007 ]\n",
      "\n",
      "Reproduced matrix:\n",
      " [[0.19222941 0.21792946 0.15951023 0.14084013 0.81641405 0.42533093]\n",
      " [0.44874275 0.72204422 0.34594106 0.99148577 0.96866325 0.4754868 ]\n",
      " [0.12656662 0.88860729 0.30625735 0.59517439 0.28036734 0.93961948]\n",
      " [0.23989012 0.51026588 0.39697353 0.27308905 0.05971563 0.57156395]\n",
      " [0.83806144 0.78847467 0.93868685 0.72673231 0.6740867  0.73812389]\n",
      " [0.59726589 0.47953891 0.56613544 0.80746028 0.13135039 0.03479656]]\n"
     ]
    }
   ],
   "source": [
    "import numpy as np\n",
    "from scipy.sparse.linalg import svds\n",
    "from scipy.linalg import svd\n",
    "\n",
    "# original matrix and U, Sigma, Vt when SVD is applied\n",
    "np.random.seed(121)\n",
    "matrix = np.random.random((6, 6))\n",
    "print('Origianl matrix:\\n', matrix)\n",
    "U, Sigma, Vt = svd(matrix, full_matrices=False)\n",
    "print('\\n decomposed matrix shape:', U.shape, Sigma.shape, Vt.shape)\n",
    "print('\\n Sigma value:', Sigma)\n",
    "\n",
    "# Truncated SVD : number of sigma's singular value -> 4\n",
    "num_components = 4\n",
    "U_tr, Sigma_tr, Vt_tr = svds(matrix, k=num_components)\n",
    "print('\\nTruncated SVD decomposition matrix shape:', U_tr.shape, Sigma_tr.shape, Vt_tr.shape)\n",
    "print('\\nTruncated SVD Sigma value:', Sigma_tr)\n",
    "\n",
    "matrix_tr = np.dot(np.dot(U_tr, np.diag(Sigma_tr)), Vt_tr)\n",
    "\n",
    "print('\\nReproduced matrix:\\n', matrix_tr)"
   ]
  },
  {
   "cell_type": "markdown",
   "id": "requested-newfoundland",
   "metadata": {},
   "source": [
    "### Scikit learn Truncated SVD class"
   ]
  },
  {
   "cell_type": "code",
   "execution_count": 34,
   "id": "deadly-harvard",
   "metadata": {},
   "outputs": [
    {
     "data": {
      "text/plain": [
       "Text(0, 0.5, 'TruncatedSVD Component 2')"
      ]
     },
     "execution_count": 34,
     "metadata": {},
     "output_type": "execute_result"
    },
    {
     "data": {
      "image/png": "[encoded data removed]",
      "text/plain": [
       "<Figure size 432x288 with 1 Axes>"
      ]
     },
     "metadata": {
      "needs_background": "light"
     },
     "output_type": "display_data"
    }
   ],
   "source": [
    "from sklearn.decomposition import TruncatedSVD, PCA\n",
    "from sklearn.datasets import load_iris\n",
    "import matplotlib.pyplot as plt\n",
    "\n",
    "iris = load_iris()\n",
    "iris_ftrs = iris.data\n",
    "# Truncated SVD 2 components\n",
    "tsvd = TruncatedSVD(n_components=2)\n",
    "tsvd.fit(iris_ftrs)\n",
    "iris_tsvd = tsvd.transform(iris_ftrs)\n",
    "\n",
    "# Scatter plot for data transformed by truncatedSVD\n",
    "plt.scatter(x=iris_tsvd[:,0], y=iris_tsvd[:,1], c=iris.target)\n",
    "plt.xlabel('TruncatedSVD Component 1')\n",
    "plt.ylabel('TruncatedSVD Component 2')\n"
   ]
  },
  {
   "cell_type": "code",
   "execution_count": 36,
   "id": "closing-tractor",
   "metadata": {},
   "outputs": [
    {
     "data": {
      "text/plain": [
       "Text(0.5, 1.0, 'PCA transformation')"
      ]
     },
     "execution_count": 36,
     "metadata": {},
     "output_type": "execute_result"
    },
    {
     "data": {
      "image/png": "[encoded data removed]",
      "text/plain": [
       "<Figure size 648x288 with 2 Axes>"
      ]
     },
     "metadata": {
      "needs_background": "light"
     },
     "output_type": "display_data"
    }
   ],
   "source": [
    "# comparison between trncatedSVD and PCA\n",
    "from sklearn.preprocessing import StandardScaler\n",
    "\n",
    "# StandardScale\n",
    "scaler = StandardScaler()\n",
    "iris_scaled = scaler.fit_transform(iris_ftrs)\n",
    "\n",
    "# TruncatedSVD based on scaled data\n",
    "tsvd = TruncatedSVD(n_components = 2)\n",
    "tsvd.fit(iris_scaled)\n",
    "iris_tsvd = tsvd.transform(iris_scaled)\n",
    "# PCA based on scaled data\n",
    "pca = PCA(n_components=2)\n",
    "pca.fit(iris_scaled)\n",
    "iris_pca = pca.transform(iris_scaled)\n",
    "\n",
    "fig, (ax1, ax2) = plt.subplots(figsize=(9, 4), ncols=2)\n",
    "ax1.scatter(x=iris_tsvd[:,0], y=iris_tsvd[:,1], c=iris.target)\n",
    "ax2.scatter(x=iris_pca[:,0], y=iris_pca[:,1], c=iris.target)\n",
    "ax1.set_title('Truncated SVD transformation')\n",
    "ax2.set_title('PCA transformation')"
   ]
  },
  {
   "cell_type": "code",
   "execution_count": 40,
   "id": "imperial-blanket",
   "metadata": {},
   "outputs": [
    {
     "name": "stdout",
     "output_type": "stream",
     "text": [
      "2.3357935955795976e-15\n",
      "[[ 0.52106591 -0.26934744  0.5804131   0.56485654]\n",
      " [ 0.37741762  0.92329566  0.02449161  0.06694199]]\n",
      "[[ 0.52106591 -0.26934744  0.5804131   0.56485654]\n",
      " [ 0.37741762  0.92329566  0.02449161  0.06694199]]\n"
     ]
    }
   ],
   "source": [
    "# PCA is made of SVD algorithm\n",
    "# if data is scaled, they are essentially same\n",
    "print((iris_pca - iris_tsvd).mean())\n",
    "print(pca.components_)\n",
    "print(tsvd.components_)"
   ]
  },
  {
   "cell_type": "markdown",
   "id": "related-offense",
   "metadata": {},
   "source": [
    "### 6-4 NMF (Non-Negative Matrix Factorization)"
   ]
  },
  {
   "cell_type": "code",
   "execution_count": 46,
   "id": "guided-click",
   "metadata": {},
   "outputs": [
    {
     "data": {
      "text/plain": [
       "Text(0, 0.5, 'NMF Component 2')"
      ]
     },
     "execution_count": 46,
     "metadata": {},
     "output_type": "execute_result"
    },
    {
     "data": {
      "image/png": "[encoded data removed]",
      "text/plain": [
       "<Figure size 432x288 with 1 Axes>"
      ]
     },
     "metadata": {
      "needs_background": "light"
     },
     "output_type": "display_data"
    }
   ],
   "source": [
    "from sklearn.decomposition import NMF\n",
    "from sklearn.datasets import load_iris\n",
    "import matplotlib.pyplot as plt\n",
    "\n",
    "iris = load_iris()\n",
    "iris_ftrs = iris.data\n",
    "nmf = NMF(n_components=2, init='nndsvd', max_iter=1000)\n",
    "nmf.fit(iris_ftrs)\n",
    "iris_nmf = nmf.transform(iris_ftrs)\n",
    "plt.scatter(x=iris_nmf[:,0], y=iris_nmf[:,1], c=iris.target)\n",
    "plt.xlabel('NMF Component 1')\n",
    "plt.ylabel('NMF Component 2')"
   ]
  },
  {
   "cell_type": "code",
   "execution_count": 43,
   "id": "israeli-punishment",
   "metadata": {},
   "outputs": [
    {
     "data": {
      "text/plain": [
       "\u001b[1;31mInit signature:\u001b[0m\n",
       "\u001b[0mNMF\u001b[0m\u001b[1;33m(\u001b[0m\u001b[1;33m\n",
       "\u001b[0m    \u001b[0mn_components\u001b[0m\u001b[1;33m=\u001b[0m\u001b[1;32mNone\u001b[0m\u001b[1;33m,\u001b[0m\u001b[1;33m\n",
       "\u001b[0m    \u001b[1;33m*\u001b[0m\u001b[1;33m,\u001b[0m\u001b[1;33m\n",
       "\u001b[0m    \u001b[0minit\u001b[0m\u001b[1;33m=\u001b[0m\u001b[1;34m'warn'\u001b[0m\u001b[1;33m,\u001b[0m\u001b[1;33m\n",
       "\u001b[0m    \u001b[0msolver\u001b[0m\u001b[1;33m=\u001b[0m\u001b[1;34m'cd'\u001b[0m\u001b[1;33m,\u001b[0m\u001b[1;33m\n",
       "\u001b[0m    \u001b[0mbeta_loss\u001b[0m\u001b[1;33m=\u001b[0m\u001b[1;34m'frobenius'\u001b[0m\u001b[1;33m,\u001b[0m\u001b[1;33m\n",
       "\u001b[0m    \u001b[0mtol\u001b[0m\u001b[1;33m=\u001b[0m\u001b[1;36m0.0001\u001b[0m\u001b[1;33m,\u001b[0m\u001b[1;33m\n",
       "\u001b[0m    \u001b[0mmax_iter\u001b[0m\u001b[1;33m=\u001b[0m\u001b[1;36m200\u001b[0m\u001b[1;33m,\u001b[0m\u001b[1;33m\n",
       "\u001b[0m    \u001b[0mrandom_state\u001b[0m\u001b[1;33m=\u001b[0m\u001b[1;32mNone\u001b[0m\u001b[1;33m,\u001b[0m\u001b[1;33m\n",
       "\u001b[0m    \u001b[0malpha\u001b[0m\u001b[1;33m=\u001b[0m\u001b[1;36m0.0\u001b[0m\u001b[1;33m,\u001b[0m\u001b[1;33m\n",
       "\u001b[0m    \u001b[0ml1_ratio\u001b[0m\u001b[1;33m=\u001b[0m\u001b[1;36m0.0\u001b[0m\u001b[1;33m,\u001b[0m\u001b[1;33m\n",
       "\u001b[0m    \u001b[0mverbose\u001b[0m\u001b[1;33m=\u001b[0m\u001b[1;36m0\u001b[0m\u001b[1;33m,\u001b[0m\u001b[1;33m\n",
       "\u001b[0m    \u001b[0mshuffle\u001b[0m\u001b[1;33m=\u001b[0m\u001b[1;32mFalse\u001b[0m\u001b[1;33m,\u001b[0m\u001b[1;33m\n",
       "\u001b[0m    \u001b[0mregularization\u001b[0m\u001b[1;33m=\u001b[0m\u001b[1;34m'both'\u001b[0m\u001b[1;33m,\u001b[0m\u001b[1;33m\n",
       "\u001b[0m\u001b[1;33m)\u001b[0m\u001b[1;33m\u001b[0m\u001b[1;33m\u001b[0m\u001b[0m\n",
       "\u001b[1;31mDocstring:\u001b[0m     \n",
       "Non-Negative Matrix Factorization (NMF).\n",
       "\n",
       "Find two non-negative matrices (W, H) whose product approximates the non-\n",
       "negative matrix X. This factorization can be used for example for\n",
       "dimensionality reduction, source separation or topic extraction.\n",
       "\n",
       "The objective function is:\n",
       "\n",
       "    .. math::\n",
       "\n",
       "        0.5 * ||X - WH||_{Fro}^2 + alpha * l1_{ratio} * ||vec(W)||_1\n",
       "\n",
       "        + alpha * l1_{ratio} * ||vec(H)||_1\n",
       "\n",
       "        + 0.5 * alpha * (1 - l1_{ratio}) * ||W||_{Fro}^2\n",
       "\n",
       "        + 0.5 * alpha * (1 - l1_{ratio}) * ||H||_{Fro}^2\n",
       "\n",
       "Where:\n",
       "\n",
       ":math:`||A||_{Fro}^2 = \\sum_{i,j} A_{ij}^2` (Frobenius norm)\n",
       "\n",
       ":math:`||vec(A)||_1 = \\sum_{i,j} abs(A_{ij})` (Elementwise L1 norm)\n",
       "\n",
       "For multiplicative-update ('mu') solver, the Frobenius norm\n",
       "(:math:`0.5 * ||X - WH||_{Fro}^2`) can be changed into another\n",
       "beta-divergence loss, by changing the beta_loss parameter.\n",
       "\n",
       "The objective function is minimized with an alternating minimization of W\n",
       "and H.\n",
       "\n",
       "Read more in the :ref:`User Guide <NMF>`.\n",
       "\n",
       "Parameters\n",
       "----------\n",
       "n_components : int, default=None\n",
       "    Number of components, if n_components is not set all features\n",
       "    are kept.\n",
       "\n",
       "init : {'random', 'nndsvd', 'nndsvda', 'nndsvdar', 'custom'}, default=None\n",
       "    Method used to initialize the procedure.\n",
       "    Default: None.\n",
       "    Valid options:\n",
       "\n",
       "    - `None`: 'nndsvd' if n_components <= min(n_samples, n_features),\n",
       "      otherwise random.\n",
       "\n",
       "    - `'random'`: non-negative random matrices, scaled with:\n",
       "      sqrt(X.mean() / n_components)\n",
       "\n",
       "    - `'nndsvd'`: Nonnegative Double Singular Value Decomposition (NNDSVD)\n",
       "      initialization (better for sparseness)\n",
       "\n",
       "    - `'nndsvda'`: NNDSVD with zeros filled with the average of X\n",
       "      (better when sparsity is not desired)\n",
       "\n",
       "    - `'nndsvdar'` NNDSVD with zeros filled with small random values\n",
       "      (generally faster, less accurate alternative to NNDSVDa\n",
       "      for when sparsity is not desired)\n",
       "\n",
       "    - `'custom'`: use custom matrices W and H\n",
       "\n",
       "solver : {'cd', 'mu'}, default='cd'\n",
       "    Numerical solver to use:\n",
       "    'cd' is a Coordinate Descent solver.\n",
       "    'mu' is a Multiplicative Update solver.\n",
       "\n",
       "    .. versionadded:: 0.17\n",
       "       Coordinate Descent solver.\n",
       "\n",
       "    .. versionadded:: 0.19\n",
       "       Multiplicative Update solver.\n",
       "\n",
       "beta_loss : float or {'frobenius', 'kullback-leibler',             'itakura-saito'}, default='frobenius'\n",
       "    Beta divergence to be minimized, measuring the distance between X\n",
       "    and the dot product WH. Note that values different from 'frobenius'\n",
       "    (or 2) and 'kullback-leibler' (or 1) lead to significantly slower\n",
       "    fits. Note that for beta_loss <= 0 (or 'itakura-saito'), the input\n",
       "    matrix X cannot contain zeros. Used only in 'mu' solver.\n",
       "\n",
       "    .. versionadded:: 0.19\n",
       "\n",
       "tol : float, default=1e-4\n",
       "    Tolerance of the stopping condition.\n",
       "\n",
       "max_iter : int, default=200\n",
       "    Maximum number of iterations before timing out.\n",
       "\n",
       "random_state : int, RandomState instance or None, default=None\n",
       "    Used for initialisation (when ``init`` == 'nndsvdar' or\n",
       "    'random'), and in Coordinate Descent. Pass an int for reproducible\n",
       "    results across multiple function calls.\n",
       "    See :term:`Glossary <random_state>`.\n",
       "\n",
       "alpha : float, default=0.\n",
       "    Constant that multiplies the regularization terms. Set it to zero to\n",
       "    have no regularization.\n",
       "\n",
       "    .. versionadded:: 0.17\n",
       "       *alpha* used in the Coordinate Descent solver.\n",
       "\n",
       "l1_ratio : float, default=0.\n",
       "    The regularization mixing parameter, with 0 <= l1_ratio <= 1.\n",
       "    For l1_ratio = 0 the penalty is an elementwise L2 penalty\n",
       "    (aka Frobenius Norm).\n",
       "    For l1_ratio = 1 it is an elementwise L1 penalty.\n",
       "    For 0 < l1_ratio < 1, the penalty is a combination of L1 and L2.\n",
       "\n",
       "    .. versionadded:: 0.17\n",
       "       Regularization parameter *l1_ratio* used in the Coordinate Descent\n",
       "       solver.\n",
       "\n",
       "verbose : int, default=0\n",
       "    Whether to be verbose.\n",
       "\n",
       "shuffle : bool, default=False\n",
       "    If true, randomize the order of coordinates in the CD solver.\n",
       "\n",
       "    .. versionadded:: 0.17\n",
       "       *shuffle* parameter used in the Coordinate Descent solver.\n",
       "\n",
       "regularization : {'both', 'components', 'transformation', None},                      default='both'\n",
       "    Select whether the regularization affects the components (H), the\n",
       "    transformation (W), both or none of them.\n",
       "\n",
       "    .. versionadded:: 0.24\n",
       "\n",
       "Attributes\n",
       "----------\n",
       "components_ : ndarray of shape (n_components, n_features)\n",
       "    Factorization matrix, sometimes called 'dictionary'.\n",
       "\n",
       "n_components_ : int\n",
       "    The number of components. It is same as the `n_components` parameter\n",
       "    if it was given. Otherwise, it will be same as the number of\n",
       "    features.\n",
       "\n",
       "reconstruction_err_ : float\n",
       "    Frobenius norm of the matrix difference, or beta-divergence, between\n",
       "    the training data ``X`` and the reconstructed data ``WH`` from\n",
       "    the fitted model.\n",
       "\n",
       "n_iter_ : int\n",
       "    Actual number of iterations.\n",
       "\n",
       "Examples\n",
       "--------\n",
       ">>> import numpy as np\n",
       ">>> X = np.array([[1, 1], [2, 1], [3, 1.2], [4, 1], [5, 0.8], [6, 1]])\n",
       ">>> from sklearn.decomposition import NMF\n",
       ">>> model = NMF(n_components=2, init='random', random_state=0)\n",
       ">>> W = model.fit_transform(X)\n",
       ">>> H = model.components_\n",
       "\n",
       "References\n",
       "----------\n",
       "Cichocki, Andrzej, and P. H. A. N. Anh-Huy. \"Fast local algorithms for\n",
       "large scale nonnegative matrix and tensor factorizations.\"\n",
       "IEICE transactions on fundamentals of electronics, communications and\n",
       "computer sciences 92.3: 708-721, 2009.\n",
       "\n",
       "Fevotte, C., & Idier, J. (2011). Algorithms for nonnegative matrix\n",
       "factorization with the beta-divergence. Neural Computation, 23(9).\n",
       "\u001b[1;31mFile:\u001b[0m           c:\\users\\zephy\\anaconda3\\envs\\python_ml_guide\\lib\\site-packages\\sklearn\\decomposition\\_nmf.py\n",
       "\u001b[1;31mType:\u001b[0m           type\n",
       "\u001b[1;31mSubclasses:\u001b[0m     \n"
      ]
     },
     "metadata": {},
     "output_type": "display_data"
    }
   ],
   "source": [
    "NMF?"
   ]
  },
  {
   "cell_type": "code",
   "execution_count": null,
   "id": "effective-slovenia",
   "metadata": {},
   "outputs": [],
   "source": []
  }
 ],
 "metadata": {
  "kernelspec": {
   "display_name": "Python 3",
   "language": "python",
   "name": "python3"
  },
  "language_info": {
   "codemirror_mode": {
    "name": "ipython",
    "version": 3
   },
   "file_extension": ".py",
   "mimetype": "text/x-python",
   "name": "python",
   "nbconvert_exporter": "python",
   "pygments_lexer": "ipython3",
   "version": "3.9.2"
  }
 },
 "nbformat": 4,
 "nbformat_minor": 5
}
